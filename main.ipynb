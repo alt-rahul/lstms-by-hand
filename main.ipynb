{
 "cells": [
  {
   "cell_type": "code",
   "execution_count": null,
   "metadata": {},
   "outputs": [],
   "source": [
    "!pip install torch\n",
    "!pip install lightning"
   ]
  },
  {
   "cell_type": "code",
   "execution_count": 3,
   "metadata": {},
   "outputs": [],
   "source": [
    "import torch \n",
    "import torch.nn as nn\n",
    "from torch.optim import Adam\n",
    "import numpy as np\n",
    "import lightning as L"
   ]
  },
  {
   "cell_type": "code",
   "execution_count": 4,
   "metadata": {},
   "outputs": [],
   "source": [
    "from torch.utils.data import DataLoader, TensorDataset"
   ]
  },
  {
   "cell_type": "code",
   "execution_count": 13,
   "metadata": {},
   "outputs": [],
   "source": [
    "class LSTMbyHand(L.LightningModule):\n",
    "    def __init__(self):\n",
    "        super().__init__()\n",
    "\n",
    "        norm_dist = torch.randn(1)\n",
    "        zero_tensor = torch.tensor(0).float()\n",
    "\n",
    "        self.wfs = nn.Parameter(norm_dist, requires_grad=True)\n",
    "        self.wfi = nn.Parameter(norm_dist, requires_grad=True)\n",
    "        self.bf = nn.Parameter(zero_tensor, requires_grad=True)\n",
    "\n",
    "        self.wis1 = nn.Parameter(norm_dist, requires_grad=True)\n",
    "        self.wii1 = nn.Parameter(norm_dist, requires_grad=True)\n",
    "        self.bi1 = nn.Parameter(zero_tensor, requires_grad=True)\n",
    "        \n",
    "        self.wis2 = nn.Parameter(norm_dist, requires_grad=True)\n",
    "        self.wii2 = nn.Parameter(norm_dist, requires_grad=True)\n",
    "        self.bi2 = nn.Parameter(zero_tensor, requires_grad=True)\n",
    "\n",
    "        self.wos = nn.Parameter(norm_dist, requires_grad=True)\n",
    "        self.woi = nn.Parameter(norm_dist, requires_grad=True)\n",
    "        self.bo = nn.Parameter(zero_tensor, requires_grad=True)\n",
    "\n",
    "    def module(self, inputs, long_memory, short_memory):\n",
    "\n",
    "        per_long_memory = torch.sigmoid(self.wfs*short_memory + self.wfi*inputs + self.bf)\n",
    "        prev_long_memory = long_memory * per_long_memory\n",
    "\n",
    "        perc_long_memory = torch.sigmoid(self.wis1*short_memory + self.wii1*inputs + self.bi1)\n",
    "        new_long_memory = torch.tanh(self.wis2*short_memory + self.wii2*inputs + self.bi2)\n",
    "\n",
    "        combined_long_memory = prev_long_memory + (perc_long_memory * new_long_memory)\n",
    "\n",
    "        new_short_memory = torch.sigmoid(self.wos*short_memory + self.woi*inputs + self.bo)\n",
    "        combined_short_memory = torch.tanh(combined_long_memory) * new_short_memory\n",
    "\n",
    "        return ([combined_long_memory, combined_short_memory])\n",
    "    \n",
    "    def forward(self, inputs):\n",
    "\n",
    "        long_memeory = 0\n",
    "        short_memory = 0\n",
    "        for i in inputs:\n",
    "            long_memory, short_memory = self.module(i, long_memeory, short_memory)\n",
    "\n",
    "        return short_memory\n",
    "    \n",
    "    def configure_optimizers(self):\n",
    "\n",
    "        return Adam(self.parameters())\n",
    "    \n",
    "    def training_step(self, batch, batch_idx):\n",
    "        input_i, label_i = batch\n",
    "        pred = self.forward(input_i[0])\n",
    "        loss = (pred - label_i) **2\n",
    "\n",
    "        self.log('train_loss', loss)\n",
    "\n",
    "        if (label_i ==0):\n",
    "            self.log('out_0', pred)\n",
    "        else:\n",
    "            self.log('out_1', pred)\n",
    "\n",
    "        return loss"
   ]
  },
  {
   "cell_type": "code",
   "execution_count": 14,
   "metadata": {},
   "outputs": [
    {
     "name": "stdout",
     "output_type": "stream",
     "text": [
      "predictions: tensor([0.4021], grad_fn=<MulBackward0>)\n"
     ]
    }
   ],
   "source": [
    "model = LSTMbyHand()\n",
    "preds = model(torch.tensor([0, 0.5, 0.25, 1]).detach())\n",
    "print(f\"predictions: {preds}\")"
   ]
  },
  {
   "cell_type": "code",
   "execution_count": 15,
   "metadata": {},
   "outputs": [],
   "source": [
    "inputs = torch.tensor([[0., .5, .25, 1.], [1., .5, .25, 1.]])\n",
    "labels = torch.tensor([0., 1.])\n",
    "dataset = TensorDataset(inputs, labels)\n",
    "dataloader = DataLoader(dataset)"
   ]
  },
  {
   "cell_type": "code",
   "execution_count": 16,
   "metadata": {},
   "outputs": [
    {
     "name": "stderr",
     "output_type": "stream",
     "text": [
      "You are using the plain ModelCheckpoint callback. Consider using LitModelCheckpoint which with seamless uploading to Model registry.\n",
      "GPU available: False, used: False\n",
      "TPU available: False, using: 0 TPU cores\n",
      "HPU available: False, using: 0 HPUs\n",
      "\n",
      "  | Name         | Type | Params | Mode\n",
      "---------------------------------------------\n",
      "  | other params | n/a  | 12     | n/a \n",
      "---------------------------------------------\n",
      "12        Trainable params\n",
      "0         Non-trainable params\n",
      "12        Total params\n",
      "0.000     Total estimated model params size (MB)\n",
      "0         Modules in train mode\n",
      "0         Modules in eval mode\n",
      "c:\\Users\\rahul\\anaconda3\\Lib\\site-packages\\lightning\\pytorch\\trainer\\connectors\\data_connector.py:425: The 'train_dataloader' does not have many workers which may be a bottleneck. Consider increasing the value of the `num_workers` argument` to `num_workers=15` in the `DataLoader` to improve performance.\n",
      "c:\\Users\\rahul\\anaconda3\\Lib\\site-packages\\lightning\\pytorch\\loops\\fit_loop.py:310: The number of training batches (2) is smaller than the logging interval Trainer(log_every_n_steps=50). Set a lower value for log_every_n_steps if you want to see logs for the training epoch.\n"
     ]
    },
    {
     "data": {
      "application/vnd.jupyter.widget-view+json": {
       "model_id": "a5f9e50b8dfe48c5b9dea11cb84fa4e6",
       "version_major": 2,
       "version_minor": 0
      },
      "text/plain": [
       "Training: |          | 0/? [00:00<?, ?it/s]"
      ]
     },
     "metadata": {},
     "output_type": "display_data"
    },
    {
     "name": "stderr",
     "output_type": "stream",
     "text": [
      "`Trainer.fit` stopped: `max_epochs=10000` reached.\n"
     ]
    }
   ],
   "source": [
    "trainer = L.Trainer(max_epochs=10000)\n",
    "trainer.fit(model, train_dataloaders=dataloader)"
   ]
  },
  {
   "cell_type": "code",
   "execution_count": 17,
   "metadata": {},
   "outputs": [
    {
     "data": {
      "text/plain": [
       "tensor([0.5597], grad_fn=<MulBackward0>)"
      ]
     },
     "execution_count": 17,
     "metadata": {},
     "output_type": "execute_result"
    }
   ],
   "source": [
    "predictions = model(inputs[0].detach())\n",
    "predictions"
   ]
  },
  {
   "cell_type": "code",
   "execution_count": 19,
   "metadata": {},
   "outputs": [
    {
     "data": {
      "text/plain": [
       "tensor([0.7562], grad_fn=<MulBackward0>)"
      ]
     },
     "execution_count": 19,
     "metadata": {},
     "output_type": "execute_result"
    }
   ],
   "source": [
    "predictions = model(inputs[1].detach())\n",
    "predictions"
   ]
  }
 ],
 "metadata": {
  "kernelspec": {
   "display_name": "base",
   "language": "python",
   "name": "python3"
  },
  "language_info": {
   "codemirror_mode": {
    "name": "ipython",
    "version": 3
   },
   "file_extension": ".py",
   "mimetype": "text/x-python",
   "name": "python",
   "nbconvert_exporter": "python",
   "pygments_lexer": "ipython3",
   "version": "3.12.7"
  }
 },
 "nbformat": 4,
 "nbformat_minor": 2
}
