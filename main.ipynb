{
 "cells": [
  {
   "cell_type": "code",
   "execution_count": 1,
   "metadata": {},
   "outputs": [
    {
     "name": "stdout",
     "output_type": "stream",
     "text": [
      "Requirement already satisfied: torch in c:\\users\\rahul\\anaconda3\\lib\\site-packages (2.5.1)\n",
      "Requirement already satisfied: filelock in c:\\users\\rahul\\anaconda3\\lib\\site-packages (from torch) (3.13.1)\n",
      "Requirement already satisfied: typing-extensions>=4.8.0 in c:\\users\\rahul\\anaconda3\\lib\\site-packages (from torch) (4.11.0)\n",
      "Requirement already satisfied: setuptools in c:\\users\\rahul\\anaconda3\\lib\\site-packages (from torch) (75.1.0)\n",
      "Requirement already satisfied: sympy==1.13.1 in c:\\users\\rahul\\anaconda3\\lib\\site-packages (from torch) (1.13.1)\n",
      "Requirement already satisfied: networkx in c:\\users\\rahul\\anaconda3\\lib\\site-packages (from torch) (3.3)\n",
      "Requirement already satisfied: jinja2 in c:\\users\\rahul\\anaconda3\\lib\\site-packages (from torch) (3.1.4)\n",
      "Requirement already satisfied: fsspec in c:\\users\\rahul\\anaconda3\\lib\\site-packages (from torch) (2024.6.1)\n",
      "Requirement already satisfied: mpmath<1.4,>=1.1.0 in c:\\users\\rahul\\anaconda3\\lib\\site-packages (from sympy==1.13.1->torch) (1.3.0)\n",
      "Requirement already satisfied: MarkupSafe>=2.0 in c:\\users\\rahul\\anaconda3\\lib\\site-packages (from jinja2->torch) (2.1.3)\n",
      "Requirement already satisfied: lightning in c:\\users\\rahul\\anaconda3\\lib\\site-packages (2.5.1)\n",
      "Requirement already satisfied: PyYAML<8.0,>=5.4 in c:\\users\\rahul\\anaconda3\\lib\\site-packages (from lightning) (6.0.1)\n",
      "Requirement already satisfied: fsspec<2026.0,>=2022.5.0 in c:\\users\\rahul\\anaconda3\\lib\\site-packages (from fsspec[http]<2026.0,>=2022.5.0->lightning) (2024.6.1)\n",
      "Requirement already satisfied: lightning-utilities<2.0,>=0.10.0 in c:\\users\\rahul\\anaconda3\\lib\\site-packages (from lightning) (0.11.9)\n",
      "Requirement already satisfied: packaging<25.0,>=20.0 in c:\\users\\rahul\\anaconda3\\lib\\site-packages (from lightning) (24.1)\n",
      "Requirement already satisfied: torch<4.0,>=2.1.0 in c:\\users\\rahul\\anaconda3\\lib\\site-packages (from lightning) (2.5.1)\n",
      "Requirement already satisfied: torchmetrics<3.0,>=0.7.0 in c:\\users\\rahul\\anaconda3\\lib\\site-packages (from lightning) (1.6.1)\n",
      "Requirement already satisfied: tqdm<6.0,>=4.57.0 in c:\\users\\rahul\\anaconda3\\lib\\site-packages (from lightning) (4.66.5)\n",
      "Requirement already satisfied: typing-extensions<6.0,>=4.4.0 in c:\\users\\rahul\\anaconda3\\lib\\site-packages (from lightning) (4.11.0)\n",
      "Requirement already satisfied: pytorch-lightning in c:\\users\\rahul\\anaconda3\\lib\\site-packages (from lightning) (2.5.1)\n",
      "Requirement already satisfied: aiohttp!=4.0.0a0,!=4.0.0a1 in c:\\users\\rahul\\anaconda3\\lib\\site-packages (from fsspec[http]<2026.0,>=2022.5.0->lightning) (3.10.5)\n",
      "Requirement already satisfied: setuptools in c:\\users\\rahul\\anaconda3\\lib\\site-packages (from lightning-utilities<2.0,>=0.10.0->lightning) (75.1.0)\n",
      "Requirement already satisfied: filelock in c:\\users\\rahul\\anaconda3\\lib\\site-packages (from torch<4.0,>=2.1.0->lightning) (3.13.1)\n",
      "Requirement already satisfied: sympy==1.13.1 in c:\\users\\rahul\\anaconda3\\lib\\site-packages (from torch<4.0,>=2.1.0->lightning) (1.13.1)\n",
      "Requirement already satisfied: networkx in c:\\users\\rahul\\anaconda3\\lib\\site-packages (from torch<4.0,>=2.1.0->lightning) (3.3)\n",
      "Requirement already satisfied: jinja2 in c:\\users\\rahul\\anaconda3\\lib\\site-packages (from torch<4.0,>=2.1.0->lightning) (3.1.4)\n",
      "Requirement already satisfied: mpmath<1.4,>=1.1.0 in c:\\users\\rahul\\anaconda3\\lib\\site-packages (from sympy==1.13.1->torch<4.0,>=2.1.0->lightning) (1.3.0)\n",
      "Requirement already satisfied: numpy>1.20.0 in c:\\users\\rahul\\anaconda3\\lib\\site-packages (from torchmetrics<3.0,>=0.7.0->lightning) (1.26.4)\n",
      "Requirement already satisfied: colorama in c:\\users\\rahul\\anaconda3\\lib\\site-packages (from tqdm<6.0,>=4.57.0->lightning) (0.4.6)\n",
      "Requirement already satisfied: aiohappyeyeballs>=2.3.0 in c:\\users\\rahul\\anaconda3\\lib\\site-packages (from aiohttp!=4.0.0a0,!=4.0.0a1->fsspec[http]<2026.0,>=2022.5.0->lightning) (2.4.0)\n",
      "Requirement already satisfied: aiosignal>=1.1.2 in c:\\users\\rahul\\anaconda3\\lib\\site-packages (from aiohttp!=4.0.0a0,!=4.0.0a1->fsspec[http]<2026.0,>=2022.5.0->lightning) (1.2.0)\n",
      "Requirement already satisfied: attrs>=17.3.0 in c:\\users\\rahul\\anaconda3\\lib\\site-packages (from aiohttp!=4.0.0a0,!=4.0.0a1->fsspec[http]<2026.0,>=2022.5.0->lightning) (23.1.0)\n",
      "Requirement already satisfied: frozenlist>=1.1.1 in c:\\users\\rahul\\anaconda3\\lib\\site-packages (from aiohttp!=4.0.0a0,!=4.0.0a1->fsspec[http]<2026.0,>=2022.5.0->lightning) (1.4.0)\n",
      "Requirement already satisfied: multidict<7.0,>=4.5 in c:\\users\\rahul\\anaconda3\\lib\\site-packages (from aiohttp!=4.0.0a0,!=4.0.0a1->fsspec[http]<2026.0,>=2022.5.0->lightning) (6.0.4)\n",
      "Requirement already satisfied: yarl<2.0,>=1.0 in c:\\users\\rahul\\anaconda3\\lib\\site-packages (from aiohttp!=4.0.0a0,!=4.0.0a1->fsspec[http]<2026.0,>=2022.5.0->lightning) (1.11.0)\n",
      "Requirement already satisfied: MarkupSafe>=2.0 in c:\\users\\rahul\\anaconda3\\lib\\site-packages (from jinja2->torch<4.0,>=2.1.0->lightning) (2.1.3)\n",
      "Requirement already satisfied: idna>=2.0 in c:\\users\\rahul\\anaconda3\\lib\\site-packages (from yarl<2.0,>=1.0->aiohttp!=4.0.0a0,!=4.0.0a1->fsspec[http]<2026.0,>=2022.5.0->lightning) (3.7)\n"
     ]
    }
   ],
   "source": [
    "!pip install torch\n",
    "!pip install lightning"
   ]
  },
  {
   "cell_type": "code",
   "execution_count": 31,
   "metadata": {},
   "outputs": [],
   "source": [
    "import torch \n",
    "import torch.nn as nn\n",
    "from torch.optim import Adam\n",
    "import numpy as np\n",
    "import lightning as L"
   ]
  },
  {
   "cell_type": "code",
   "execution_count": 32,
   "metadata": {},
   "outputs": [],
   "source": [
    "from torch.utils.data import DataLoader, TensorDataset"
   ]
  },
  {
   "cell_type": "code",
   "execution_count": 33,
   "metadata": {},
   "outputs": [],
   "source": [
    "class LSTMbyHand(L.LightningModule):\n",
    "    def __init__(self):\n",
    "        super().__init__()\n",
    "\n",
    "        norm_dist = torch.randn(1)\n",
    "        zero_tensor = torch.tensor(0).float()\n",
    "\n",
    "        self.wfs = nn.Parameter(norm_dist, requires_grad=True)\n",
    "        self.wfi = nn.Parameter(norm_dist, requires_grad=True)\n",
    "        self.bf = nn.Parameter(zero_tensor, requires_grad=True)\n",
    "\n",
    "        self.wis1 = nn.Parameter(norm_dist, requires_grad=True)\n",
    "        self.wii1 = nn.Parameter(norm_dist, requires_grad=True)\n",
    "        self.bi1 = nn.Parameter(zero_tensor, requires_grad=True)\n",
    "        \n",
    "        self.wis2 = nn.Parameter(norm_dist, requires_grad=True)\n",
    "        self.wii2 = nn.Parameter(norm_dist, requires_grad=True)\n",
    "        self.bi2 = nn.Parameter(zero_tensor, requires_grad=True)\n",
    "\n",
    "        self.wos = nn.Parameter(norm_dist, requires_grad=True)\n",
    "        self.woi = nn.Parameter(norm_dist, requires_grad=True)\n",
    "        self.bo = nn.Parameter(zero_tensor, requires_grad=True)\n",
    "\n",
    "    def module(self, inputs, long_memory, short_memory):\n",
    "\n",
    "        per_long_memory = torch.sigmoid(self.wfs*short_memory + self.wfi*inputs + self.bf)\n",
    "        prev_long_memory = long_memory * per_long_memory\n",
    "\n",
    "        perc_long_memory = torch.sigmoid(self.wis1*short_memory + self.wii1*inputs + self.bi1)\n",
    "        new_long_memory = torch.tanh(self.wis2*short_memory + self.wii2*inputs + self.bi2)\n",
    "\n",
    "        combined_long_memory = prev_long_memory + (perc_long_memory * new_long_memory)\n",
    "\n",
    "        new_short_memory = torch.sigmoid(self.wos*short_memory + self.woi*inputs + self.bo)\n",
    "        combined_short_memory = torch.tanh(combined_long_memory) * new_short_memory\n",
    "\n",
    "        return ([combined_long_memory, combined_short_memory])\n",
    "    \n",
    "    def forward(self, inputs):\n",
    "\n",
    "        long_memeory = 0\n",
    "        short_memory = 0\n",
    "        for i in inputs:\n",
    "            long_memory, short_memory = self.module(i, long_memeory, short_memory)\n",
    "\n",
    "        return short_memory\n",
    "    \n",
    "    def optimizer(self):\n",
    "\n",
    "        return Adam(self.parameters())\n",
    "    \n",
    "    def training(self, batch, batch_idx):\n",
    "        input_i, label_i = batch\n",
    "        pred = self.forward(input_i[0])\n",
    "        loss = (pred - label_i) **2\n",
    "\n",
    "        self.log('train_loss', loss)\n",
    "\n",
    "        if (label_i ==0):\n",
    "            self.log('out_0', pred)\n",
    "        else:\n",
    "            self.log('out_1', pred)\n",
    "\n",
    "        return loss"
   ]
  },
  {
   "cell_type": "code",
   "execution_count": 34,
   "metadata": {},
   "outputs": [
    {
     "name": "stdout",
     "output_type": "stream",
     "text": [
      "predictions: tensor([-0.0520], grad_fn=<MulBackward0>)\n"
     ]
    }
   ],
   "source": [
    "model = LSTMbyHand()\n",
    "preds = model(torch.tensor([0, 0.5, 0.25, 1]).detach())\n",
    "print(f\"predictions: {preds}\")"
   ]
  },
  {
   "cell_type": "code",
   "execution_count": null,
   "metadata": {},
   "outputs": [],
   "source": [
    "inputs = torch.tensor([[0., 0.5, 0.25, 1.], [1., 0.5, 0.25, 1.]])\n",
    "labels = torch.tensor([0., 1.])\n",
    "\n",
    "dataset = TensorDataset(inputs, labels)\n",
    "dataloader = DataLoader(dataset)\n",
    "\n"
   ]
  }
 ],
 "metadata": {
  "kernelspec": {
   "display_name": "base",
   "language": "python",
   "name": "python3"
  },
  "language_info": {
   "codemirror_mode": {
    "name": "ipython",
    "version": 3
   },
   "file_extension": ".py",
   "mimetype": "text/x-python",
   "name": "python",
   "nbconvert_exporter": "python",
   "pygments_lexer": "ipython3",
   "version": "3.12.7"
  }
 },
 "nbformat": 4,
 "nbformat_minor": 2
}
